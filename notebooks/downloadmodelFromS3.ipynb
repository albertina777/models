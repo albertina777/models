{
 "cells": [
  {
   "cell_type": "code",
   "execution_count": null,
   "id": "818802bc-6fee-4f72-89e8-025bf73d54a8",
   "metadata": {},
   "outputs": [],
   "source": [
    "#Upgrade pip to the latest version\n",
    "!pip3 install --upgrade pip\n",
    "#Install Boto3\n",
    "!pip3 install boto3`\n",
    "!pip3 install torch torchvision torchaudio --index-url https://download.pytorch.org/whl/cu118\n",
    "!pip3 install transformers\n",
    "!pip install --upgrade jupyter ipywidgets"
   ]
  },
  {
   "cell_type": "code",
   "execution_count": null,
   "id": "a2ea7a80-633d-41c3-b654-a741abfdf7bf",
   "metadata": {},
   "outputs": [],
   "source": [
    "#Install Boto3 libraries\n",
    "import os\n",
    "import boto3\n",
    "from botocore.client import Config\n",
    "from boto3 import session\n",
    "#Check Boto3 version\n",
    "!pip3 show boto3"
   ]
  },
  {
   "cell_type": "code",
   "execution_count": null,
   "id": "e7e83686-c137-4626-85b2-7b3cbe06e8fd",
   "metadata": {},
   "outputs": [],
   "source": [
    "#Creating an S3 client\n",
    "#Define credentials\n",
    "key_id = os.environ.get('AWS_ACCESS_KEY_ID')\n",
    "secret_key = os.environ.get('AWS_SECRET_ACCESS_KEY')\n",
    "endpoint = os.environ.get('AWS_S3_ENDPOINT')\n",
    "region = os.environ.get('AWS_DEFAULT_REGION')\n",
    "#Define client session\n",
    "session = boto3.session.Session(aws_access_key_id=key_id,aws_secret_access_key=secret_key)"
   ]
  },
  {
   "cell_type": "code",
   "execution_count": null,
   "id": "78cc3f81-209c-4ce1-81a4-fcc93a4f880f",
   "metadata": {},
   "outputs": [],
   "source": [
    "\n",
    "#Define client connection\n",
    "s3_client = boto3.client('s3', aws_access_key_id=key_id,\n",
    "aws_secret_access_key=secret_key,aws_session_token=None,\n",
    "config=boto3.session.Config(signature_version='s3v4'),\n",
    "endpoint_url=endpoint,\n",
    "region_name=region)"
   ]
  },
  {
   "cell_type": "code",
   "execution_count": null,
   "id": "f1c8670e-2e4c-4801-a483-17cb1d2effab",
   "metadata": {},
   "outputs": [],
   "source": [
    "def download_directory_from_s3(bucket_name, s3_directory, local_directory):\n",
    "    paginator = s3_client.get_paginator('list_objects_v2')\n",
    "    for result in paginator.paginate(Bucket=bucket_name, Prefix=s3_directory):\n",
    "        if 'Contents' not in result:\n",
    "            continue\n",
    "\n",
    "        for obj in result['Contents']:\n",
    "            s3_key = obj['Key']\n",
    "            local_file_path = os.path.join(local_directory, os.path.relpath(s3_key, s3_directory))\n",
    "\n",
    "            if not os.path.exists(os.path.dirname(local_file_path)):\n",
    "                os.makedirs(os.path.dirname(local_file_path))\n",
    "\n",
    "            s3_client.download_file(bucket_name, s3_key, local_file_path)\n",
    "            print(f'Downloaded {s3_key} to {local_file_path}')\n"
   ]
  },
  {
   "cell_type": "code",
   "execution_count": null,
   "id": "2e52d33d-7777-407a-acad-3d2e7937b032",
   "metadata": {},
   "outputs": [],
   "source": [
    "# Example usage\n",
    "bucket_name = 'mybucket'\n",
    "s3_directory = 'Llama-3.2-3B-Instruct/'\n",
    "\n",
    "download_path = '/tmp/Llama-3.2-3B-Instruct/'\n",
    "\n",
    "download_directory_from_s3(bucket_name, s3_directory, download_path)"
   ]
  }
 ],
 "metadata": {
  "kernelspec": {
   "display_name": "Python 3.11",
   "language": "python",
   "name": "python3"
  },
  "language_info": {
   "codemirror_mode": {
    "name": "ipython",
    "version": 3
   },
   "file_extension": ".py",
   "mimetype": "text/x-python",
   "name": "python",
   "nbconvert_exporter": "python",
   "pygments_lexer": "ipython3",
   "version": "3.11.7"
  }
 },
 "nbformat": 4,
 "nbformat_minor": 5
}
